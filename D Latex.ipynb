{
 "cells": [
  {
   "cell_type": "markdown",
   "metadata": {},
   "source": [
    "# [CPSC 322](https://github.com/GonzagaCPSC322) Data Science Algorithms\n",
    "[Gonzaga University](https://www.gonzaga.edu/)\n",
    "\n",
    "[Gina Sprint](http://cs.gonzaga.edu/faculty/sprint/)\n",
    "\n",
    "# Latex\n",
    "What are our learning objectives for this lesson?\n",
    "* Learn basic syntax for Latex\n",
    "* Learn basic HTML syntax, as needed\n",
    "\n",
    "Content used in this lesson is based upon information in the following sources:\n",
    "* [markdowntutorial.com](http://www.markdowntutorial.com/)\n",
    "* [Github](https://guides.github.com/features/mastering-markdown/)\n",
    "* [ShareLatex](https://www.sharelatex.com/)"
   ]
  },
  {
   "cell_type": "markdown",
   "metadata": {},
   "source": [
    "## Warm-up Task(s)\n",
    "1. (together) Launch Jupyter Lab, another way to edit Notebooks!!\n",
    "    * Start your Docker container and run the following command in its bash shell: `jupyter lab --ip='0.0.0.0' --port=8888 --no-browser --allow-root --notebook-dir=/home`\n",
    "    * Then copy the last link in the command output and paste it in a new tab in your host browser\n",
    "    * Open JupyterNotebookFun/JupyterBasics.ipynb in Jupyter Lab\n",
    "1. Poke around a bit\n",
    "    * Run all your cells from Tuesday's class\n",
    "    * Add a new Markdown cell at the end of the Notebook\n",
    "    * Turn on \"show line numbers\" under the View menu "
   ]
  },
  {
   "cell_type": "markdown",
   "metadata": {},
   "source": [
    "## Today \n",
    "* Announcements\n",
    "    * RQ4 is due Monday\n",
    "    * PA2 is due Wednesday. Questions?\n",
    "    * PA3 will be posted later today. We will go over it on Tuesday.\n",
    "* Finish JupyterBasics.ipynb\n",
    "    * Learn some Latex 🤓\n",
    "* Start MatplotlibBasics.ipynb"
   ]
  },
  {
   "cell_type": "markdown",
   "metadata": {},
   "source": [
    "## Latex Overview\n",
    "[Latex](https://www.latex-project.org/about/) is a markup language to typeset documents. Specifically, Latex is really good at typesetting *math*. We are going to use Latex in our Markdown cells to render beautiful mathematical formulas. How we are going to use Latex only scratches the surface of what Latex can be used for (i.e. writing entire papers, as an alternative to Microsoft Word). \n",
    "\n",
    "### Math Mode\n",
    "To enter Latex code in a Markdown cell, we need to enter \"math mode\", which is prefacing our Latex code with the \\\\$ symbol for inline Latex, and \\$\\$ for block Latex. For example:\n",
    "```\n",
    "The word pi in Latex, $pi$, looks more \"mathy\".\n",
    "```\n",
    "\n",
    "would render as:\n",
    "\n",
    "The word pi in Latex, $pi$, looks more \"mathy\".\n",
    "\n",
    "And block Latex:\n",
    "```\n",
    "The word pi in Latex\n",
    "$$pi$$\n",
    "is now centered and on its own line.\n",
    "```\n",
    "\n",
    "would render as:\n",
    "\n",
    "The word pi in Latex\n",
    "\n",
    "$$pi$$\n",
    "\n",
    "is now centered and on its own line.\n",
    "\n",
    "Now let's learn some basic Latex!"
   ]
  },
  {
   "cell_type": "markdown",
   "metadata": {},
   "source": [
    "### Basic Functionality\n",
    "Enter/exit math mode: \\\\$ for inline math and \\$\\$ for block math\n",
    "\n",
    "Subscript: follow text with `_{text to be subscripted}`\n",
    "* Example: `$x_{i + 1}$` will be rendered as $x_{i + 1}$\n",
    "\n",
    "Superscript: follow text with `^{text to be superscripted}`\n",
    "* Example: `$x^{i + 1}$` will be rendered as $x^{i + 1}$\n",
    "\n",
    "Symbols over characters: use \\overline, \\bar, \\widehat, or ' (prime)\n",
    "* Example: `$\\overline{x}$` will be rendered as $\\overline{x}$\n",
    "* Example: `$\\widehat{x}$` will be rendered as $\\widehat{x}$\n",
    "* Example: `$x'$` will be rendered as $x'$\n",
    "\n",
    "Special characters: backslash and the name, which you probably will have to Google\n",
    "* Example: `$\\pi$` will be rendered as $\\pi$\n",
    "* Example: `$\\times$` will be rendered as $\\times$\n",
    "\n",
    "Fractions: \\frac{numerator}{denominator}\n",
    "* Example: `$\\frac{n(n + 1)}{2}$` will be rendered as $\\frac{n(n + 1)}{2}$\n",
    "\n",
    "Square root: `$\\sqrt{2}$` will be rendered as $\\sqrt{2}$\n",
    "\n",
    "Sums: `$\\sum_{n=1}^{\\infty} 2^{-n}$` will be rendered as $\\sum_{n=1}^{\\infty} 2^{-n}$"
   ]
  },
  {
   "cell_type": "markdown",
   "metadata": {},
   "source": [
    "### Escaping Characters\n",
    "Often characters/symbols have special meaning in Markdown. For example \\\\$ denotes Latex math mode. Sometimes we really do want a \\$ in our paragraphs! To do this, you can escape the functionality of a character by placing one (or sometimes two) backslash(es) in front of the character. \n",
    "\n",
    "Example: \\\\\\\\ `\\\\`$ will render as \\\\ \\\\$\n",
    "\n",
    "Alternatively, I sometimes use inline code to escape built-in functionality.\n",
    "\n",
    "Example: \\`$\\` will render as `$`"
   ]
  },
  {
   "cell_type": "markdown",
   "metadata": {},
   "source": [
    "### Other Latex Functionality\n",
    "Latex is capable of so much more! I recommend following a tutorial online to learn more. [ShareLatex](https://www.sharelatex.com/) is a great resource to learn more. For now, you know enough to typeset basic math formulas."
   ]
  }
 ],
 "metadata": {
  "anaconda-cloud": {},
  "kernelspec": {
   "display_name": "Python 3",
   "language": "python",
   "name": "python3"
  },
  "language_info": {
   "codemirror_mode": {
    "name": "ipython",
    "version": 3
   },
   "file_extension": ".py",
   "mimetype": "text/x-python",
   "name": "python",
   "nbconvert_exporter": "python",
   "pygments_lexer": "ipython3",
   "version": "3.7.4"
  }
 },
 "nbformat": 4,
 "nbformat_minor": 4
}
