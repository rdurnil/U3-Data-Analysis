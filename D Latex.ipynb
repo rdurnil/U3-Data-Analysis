{
 "cells": [
  {
   "cell_type": "markdown",
   "metadata": {},
   "source": [
    "# [CPSC 322](https://github.com/GonzagaCPSC322) Data Science Algorithms\n",
    "[Gonzaga University](https://www.gonzaga.edu/)\n",
    "\n",
    "[Gina Sprint](http://cs.gonzaga.edu/faculty/sprint/)\n",
    "\n",
    "# Latex\n",
    "What are our learning objectives for this lesson?\n",
    "* Learn basic syntax for Latex\n",
    "* Learn basic HTML syntax, as needed\n",
    "\n",
    "Content used in this lesson is based upon information in the following sources:\n",
    "* [markdowntutorial.com](http://www.markdowntutorial.com/)\n",
    "* [Github](https://guides.github.com/features/mastering-markdown/)\n",
    "* [ShareLatex](https://www.sharelatex.com/)"
   ]
  },
  {
   "cell_type": "markdown",
   "metadata": {},
   "source": [
    "## Warm-up Task(s)\n",
    "Open JupyterNotebookFun/MarkdownLatexBasics.ipynb in VS Code. That's it!!"
   ]
  },
  {
   "cell_type": "markdown",
   "metadata": {},
   "source": [
    "## Today \n",
    "* Announcements\n",
    "    * No RQ due on Monday, enjoy the break!\n",
    "    * PA2 is due Wednesday. Questions?\n",
    "    * PA3 is posted. We will go over it on Tuesday.\n",
    "    * Notes on next week\n",
    "        * Monday's office hours (2/7)\n",
    "            * We have zoom interviews w/faculty candidates 2pm-4pm\n",
    "            * So I have to move my office hours to 8am-10am (zoom or in-person)\n",
    "        * Tuesday's class (2/8)\n",
    "            * I have a virtual synchronous workshop 10am-1pm\n",
    "            * So normal class time is canceled and instead I will do one live hybrid class 8am-9:15am\n",
    "                * Come in-person (BC 003) or synchronously on zoom\n",
    "                * OR watch the zoom lecture recording later during normal class time\n",
    "        * Wednesday's office hours (2/9)\n",
    "            * I have a virtual synchronous workshop 10am-1pm plus zoom interviews w/faculty candidates 2pm-4pm\n",
    "            * So I have to move my office hours to 8am-10am (zoom or in-person)\n",
    "    * Note to set the default container Python interpreter path to be 3.9.7 (conda):\n",
    "        1. Attach to the container and go to VS Code settings\n",
    "        1. Choose Remote from the tab bar\n",
    "        1. Search for interpreter\n",
    "        1. Enter /opt/conda/bin/python \n",
    "    * Consider watching this great TEDx Spokane talk: https://www.youtube.com/watch?v=SkJ5bNysy1E\n",
    "* Finish MarkdownLatexBasics.ipynb\n",
    "    * Learn some Markdown and Latex 🤓\n",
    "* Start MatplotlibBasics.ipynb\n",
    "    * Note: I posted examples of 5 different types of charts in JupyterNotebookFun/MatplotlibExamples.ipynb"
   ]
  },
  {
   "cell_type": "markdown",
   "metadata": {},
   "source": [
    "## Latex Overview\n",
    "[Latex](https://www.latex-project.org/about/) is a markup language to typeset documents. Specifically, Latex is really good at typesetting *math*. We are going to use Latex in our Markdown cells to render beautiful mathematical formulas. How we are going to use Latex only scratches the surface of what Latex can be used for (i.e. writing entire papers, as an alternative to Microsoft Word). \n",
    "\n",
    "### Math Mode\n",
    "To enter Latex code in a Markdown cell, we need to enter \"math mode\", which is prefacing our Latex code with the \\\\$ symbol for inline Latex, and \\$\\$ for block Latex. For example:\n",
    "```\n",
    "The word pi in Latex, $pi$, looks more \"mathy\".\n",
    "```\n",
    "\n",
    "would render as:\n",
    "\n",
    "The word pi in Latex, $pi$, looks more \"mathy\".\n",
    "\n",
    "And block Latex:\n",
    "```\n",
    "The word pi in Latex\n",
    "$$pi$$\n",
    "is now centered and on its own line.\n",
    "```\n",
    "\n",
    "would render as:\n",
    "\n",
    "The word pi in Latex\n",
    "\n",
    "$$pi$$\n",
    "\n",
    "is now centered and on its own line.\n",
    "\n",
    "Now let's learn some basic Latex!"
   ]
  },
  {
   "cell_type": "markdown",
   "metadata": {},
   "source": [
    "### Basic Functionality\n",
    "Enter/exit math mode: \\\\$ for inline math and \\$\\$ for block math\n",
    "\n",
    "Subscript: follow text with `_{text to be subscripted}`\n",
    "* Example: `$x_{i + 1}$` will be rendered as $x_{i + 1}$\n",
    "\n",
    "Superscript: follow text with `^{text to be superscripted}`\n",
    "* Example: `$x^{i + 1}$` will be rendered as $x^{i + 1}$\n",
    "\n",
    "Symbols over characters: use \\overline, \\bar, \\widehat, or ' (prime)\n",
    "* Example: `$\\overline{x}$` will be rendered as $\\overline{x}$\n",
    "* Example: `$\\widehat{x}$` will be rendered as $\\widehat{x}$\n",
    "* Example: `$x'$` will be rendered as $x'$\n",
    "\n",
    "Special characters: backslash and the name, which you probably will have to Google\n",
    "* Example: `$\\pi$` will be rendered as $\\pi$\n",
    "* Example: `$\\times$` will be rendered as $\\times$\n",
    "\n",
    "Fractions: \\frac{numerator}{denominator}\n",
    "* Example: `$\\frac{n(n + 1)}{2}$` will be rendered as $\\frac{n(n + 1)}{2}$\n",
    "\n",
    "Square root: `$\\sqrt{2}$` will be rendered as $\\sqrt{2}$\n",
    "\n",
    "Sums: `$\\sum_{n=1}^{\\infty} 2^{-n}$` will be rendered as $\\sum_{n=1}^{\\infty} 2^{-n}$"
   ]
  },
  {
   "cell_type": "markdown",
   "metadata": {},
   "source": [
    "### Escaping Characters\n",
    "Often characters/symbols have special meaning in Markdown. For example \\\\$ denotes Latex math mode. Sometimes we really do want a \\$ in our paragraphs! To do this, you can escape the functionality of a character by placing one (or sometimes two) backslash(es) in front of the character. \n",
    "\n",
    "Example: \\\\\\\\ `\\\\`$ will render as \\\\ \\\\$\n",
    "\n",
    "Alternatively, I sometimes use inline code to escape built-in functionality.\n",
    "\n",
    "Example: \\`$\\` will render as `$`"
   ]
  },
  {
   "cell_type": "markdown",
   "metadata": {},
   "source": [
    "### Other Latex Functionality\n",
    "Latex is capable of so much more! I recommend following a tutorial online to learn more. [ShareLatex](https://www.sharelatex.com/) is a great resource to learn more. For now, you know enough to typeset basic math formulas."
   ]
  }
 ],
 "metadata": {
  "anaconda-cloud": {},
  "kernelspec": {
   "display_name": "Python 3 (ipykernel)",
   "language": "python",
   "name": "python3"
  },
  "language_info": {
   "codemirror_mode": {
    "name": "ipython",
    "version": 3
   },
   "file_extension": ".py",
   "mimetype": "text/x-python",
   "name": "python",
   "nbconvert_exporter": "python",
   "pygments_lexer": "ipython3",
   "version": "3.9.7"
  }
 },
 "nbformat": 4,
 "nbformat_minor": 4
}
