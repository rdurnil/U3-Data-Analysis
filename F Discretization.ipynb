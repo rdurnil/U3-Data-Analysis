{
 "cells": [
  {
   "cell_type": "markdown",
   "metadata": {},
   "source": [
    "# [CPSC 322](https://github.com/GonzagaCPSC322) Data Science Algorithms\n",
    "[Gonzaga University](https://www.gonzaga.edu/)\n",
    "\n",
    "[Gina Sprint](http://cs.gonzaga.edu/faculty/sprint/)\n",
    "\n",
    "# Discretization\n",
    "What are our learning objectives for this lesson?\n",
    "* Transform a continuous attribute into a categorical attribute using discretization\n",
    "\n",
    "Content used in this lesson is based upon information in the following sources:\n",
    "* Dr. Shawn Bowers' Data Mining notes"
   ]
  },
  {
   "cell_type": "markdown",
   "metadata": {},
   "source": [
    "## Warm-up Task(s)\n",
    "* Open JupyterNotebookFun/utils.py\n",
    "    * Finish this task: create a box plot of MSRPs grouped by model year\n",
    "* Read the \"Discretization\" and \"Discretization Lab\" sections below"
   ]
  },
  {
   "cell_type": "markdown",
   "metadata": {},
   "source": [
    "## Today \n",
    "* Announcements\n",
    "    * New in Zoom... live captioning!! Let's try it out\n",
    "    * No RQ due on Monday\n",
    "    * PA3 is due Thursday 2/25. Questions?\n",
    "        * Note: related to one of the bonus tasks... there is an example of a \"multiple frequency diagram\" in `E Data Visualization.ipynb` on Github\n",
    "* Finish JupyterNotebookFun\n",
    "    * Discretization\n",
    "    * Linear regression\n",
    "* IQ3 last ~15 mins of class"
   ]
  },
  {
   "cell_type": "markdown",
   "metadata": {},
   "source": [
    "## Discretization\n",
    "Discretization is converting numeric (continuous) attributes to be discrete (categorical). Here are a few reasons you might apply discretization:\n",
    "* To create frequency diagrams (e.g. histograms)\n",
    "    * Recall we used `plt.hist(xs, bins=20)` to convert a list of numeric values into bins and plot the frequency of values in each bin"
   ]
  },
  {
   "cell_type": "code",
   "execution_count": 2,
   "metadata": {},
   "outputs": [
    {
     "data": {
      "image/png": "[encoded data removed]",
      "text/plain": [
       "<Figure size 432x288 with 1 Axes>"
      ]
     },
     "metadata": {
      "needs_background": "light"
     },
     "output_type": "display_data"
    }
   ],
   "source": [
    "import numpy as np\n",
    "import matplotlib.pyplot as plt\n",
    "\n",
    "plt.figure()\n",
    "mu, sigma = 100, 5 # mean and standard deviation\n",
    "xs = np.random.normal(mu, sigma, 1000)\n",
    "\n",
    "plt.hist(xs, bins=20)\n",
    "plt.grid(True)\n",
    "plt.show()"
   ]
  },
  {
   "cell_type": "markdown",
   "metadata": {},
   "source": [
    "* To look at relationships (e.g., to another discrete attribute)\n",
    "* To remove \"noise\"\n",
    "* To use with specific mining algorithms\n",
    "\n",
    "### Some \"Binning\" Techniques\n",
    "* Real, meaningful bins for the domain\n",
    "     * e.g., US DOE fuel economy rating\n",
    "     * The values that define bins are called \"cut points\"\n",
    "     \n",
    "Rating |MPG\n",
    "-|-|\n",
    "10 |≥ 45\n",
    "9 |37–44\n",
    "8 |31–36\n",
    "7 |27–30\n",
    "6 |24–26\n",
    "5 |20–23\n",
    "4 |17–19\n",
    "3 |15–16\n",
    "2 |14\n",
    "1 |≤ 13\n",
    "\n",
    "* Define equal-width intervals\n",
    "    * Can artificially skew data (e.g., most values in one or two bins)\n",
    "* Define equal-frequency intervals\n",
    "     * Doesn't take into account the actual distribution\n",
    "* Cluster analysis (clustering)\n",
    "    * Partition values into similar groups\n",
    "         * e.g., based on closeness of data points\n",
    "* Classification-based approaches\n",
    "     * Find cut points that create ranges with instances having the most number of the same classes as possible\n",
    "     \n",
    "### Equal-width Bins\n",
    "Partition the values into disjoint consecutive subranges (bins)\n",
    "* Each bin (or bucket) denotes a category (ordinal)\n",
    "* The range of each bin is the width\n",
    "* Note that for n bins, we assume there are N + 1 cutoff points (we will use this approach becuase numpy's [histogram()](https://docs.scipy.org/doc/numpy/reference/generated/numpy.histogram.html#numpy.histogram) function uses this approach)\n",
    "    * Includes the min and max value as cutoffs\n",
    "    * All but the last (righthand-most) bin is half-open. For example, if the cutoffs are \\[1, 2, 3, 4\\] then the first bin is \\[1, 2) and the second \\[2, 3). The last bin, however, is \\[3, 4\\]\n",
    "* Alternatively we could assume other conventions, such as\n",
    "    * N cutoffs\n",
    "        * Includes max value (as last cutoff)\n",
    "        * All bins are are half-open. For example, if the cutoffs are \\[1, 2, 3, 4\\] then the first bin is (-inf, 1\\] and the second (1, 2\\] and the third (2, 3\\] and the last (3, 4\\]\n",
    "    * N - 1 cutoffs\n",
    "        * Not include max as last cutoff\n",
    "     \n",
    "## Discretization Lab\n",
    "1. Given a list of values and the number of equal-width bins to create (N), write a function to return a list of the N + 1 cutoff points.\n",
    "1. Given a list of values and a list of N + 1 cutoff points, write a function to return the corresponding frequencies of the N bins.\n",
    "1. Given a list of the N bins and the N frequencies of the bins, write a function to produce a histogram that matches that produced with the same data by `plt.hist()`"
   ]
  }
 ],
 "metadata": {
  "anaconda-cloud": {},
  "kernelspec": {
   "display_name": "Python 3",
   "language": "python",
   "name": "python3"
  },
  "language_info": {
   "codemirror_mode": {
    "name": "ipython",
    "version": 3
   },
   "file_extension": ".py",
   "mimetype": "text/x-python",
   "name": "python",
   "nbconvert_exporter": "python",
   "pygments_lexer": "ipython3",
   "version": "3.7.4"
  }
 },
 "nbformat": 4,
 "nbformat_minor": 4
}
