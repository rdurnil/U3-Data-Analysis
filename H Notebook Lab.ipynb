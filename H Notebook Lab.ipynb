{
 "cells": [
  {
   "cell_type": "markdown",
   "metadata": {},
   "source": [
    "# [CPSC 322](https://github.com/GonzagaCPSC322) Data Science Algorithms\n",
    "[Gonzaga University](https://www.gonzaga.edu/)\n",
    "\n",
    "[Gina Sprint](http://cs.gonzaga.edu/faculty/sprint/)\n",
    "\n",
    "# Notebook Lab\n",
    "What are our learning objectives for this lesson?\n",
    "* Practice working with the syntax for Markdown and Latex\n",
    "* Practice visualizing data with Matplotlib\n",
    "\n",
    "Content used in this lesson is based upon information in the following sources:\n",
    "* None to report"
   ]
  },
  {
   "cell_type": "markdown",
   "metadata": {},
   "source": [
    "## Warm-up Task(s)\n",
    "* Open JupyterNotebookFun and create a new Notebook called NotebookLab.ipynb\n",
    "    * Start working on task 1 of the Notebook Lab below\n",
    "* Enjoy this xkcd comic :)\n",
    "    * Note: Matplotlib has an [xkcd theme](https://matplotlib.org/xkcd/examples/showcase/xkcd.html)\n",
    "    \n",
    "![](https://imgs.xkcd.com/comics/convincing.png)"
   ]
  },
  {
   "cell_type": "markdown",
   "metadata": {},
   "source": [
    "## Lab Overview\n",
    "In a new Jupyter Notebook called NotebookLab.ipynb, add section headers and a description for each of the following tasks:\n",
    "\n",
    "### Task 1\n",
    "1. Typeset the following equations from Appendix A of Bramer:\n",
    "<img src=\"https://raw.githubusercontent.com/GonzagaCPSC322/U3-Data-Analysis/master/figures/log_properties.png\" width=\"600\"/>\n",
    "\n",
    "<img src=\"https://raw.githubusercontent.com/GonzagaCPSC322/U3-Data-Analysis/master/figures/double_subscript_notation.png\" width=\"600\"/>\n",
    "\n",
    "1. Cite the Bramer textbook as a source by including a link to the Amazon page for the book.\n",
    "\n",
    "### Task 2\n",
    "1. Typeset the formula for computing the mean of a sequence of numbers $a$.\n",
    "1. Follow the formula with a code cell that contains a function definition for computing the mean of a list `a`. Call this function with example data and print out the result.\n",
    "1. Plot the list `a` and label the mean value with an annotation. \n",
    "1. Challenge: read about [matplotlib arrow properties](https://matplotlib.org/users/annotations.html) and have your label for the mean point to the actual mean (x, y) point with an arrow."
   ]
  }
 ],
 "metadata": {
  "anaconda-cloud": {},
  "kernelspec": {
   "display_name": "Python 3",
   "language": "python",
   "name": "python3"
  },
  "language_info": {
   "codemirror_mode": {
    "name": "ipython",
    "version": 3
   },
   "file_extension": ".py",
   "mimetype": "text/x-python",
   "name": "python",
   "nbconvert_exporter": "python",
   "pygments_lexer": "ipython3",
   "version": "3.8.5"
  }
 },
 "nbformat": 4,
 "nbformat_minor": 4
}
