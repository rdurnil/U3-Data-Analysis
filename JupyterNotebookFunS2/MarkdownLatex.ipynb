{
 "cells": [
  {
   "cell_type": "code",
   "execution_count": 1,
   "metadata": {},
   "outputs": [
    {
     "name": "stdout",
     "output_type": "stream",
     "text": [
      "hello jupyter!!\n"
     ]
    }
   ],
   "source": [
    "print(\"hello jupyter!!\")"
   ]
  },
  {
   "cell_type": "markdown",
   "metadata": {},
   "source": [
    "Markdown is a markup language like HTML (but simpler)"
   ]
  },
  {
   "cell_type": "markdown",
   "metadata": {},
   "source": [
    "# This is a Level One Header\n",
    "## This is a Level Two Header\n",
    "This is paragraph text\n",
    "This is the next line\n",
    "\n",
    "Hard break: two newlines\n",
    "\n",
    "This is the next line\n",
    "\n",
    "Soft break: two spaces at the end of the line plus a newline  \n",
    "This is the next line"
   ]
  },
  {
   "cell_type": "markdown",
   "metadata": {},
   "source": [
    "## Formatting\n",
    "We can *italicize* or _italicize_  \n",
    "We can **bold** or __bold__  \n",
    "We can ~~strikethrough~~  \n",
    "We can `syntax highlight`  \n",
    "We can also block syntax highlight:  \n",
    "```python\n",
    "for i in range(5):\n",
    "    print(i)\n",
    "```  \n",
    "We can have block quotes:  \n",
    ">This is a multi  \n",
    "line block quote"
   ]
  },
  {
   "cell_type": "markdown",
   "metadata": {},
   "source": [
    "## Lists\n",
    "We can have unordered lists:\n",
    "* Item 1\n",
    "* Item 2\n",
    "* Item 3\n",
    "\n",
    "We can have ordered lists:\n",
    "1. Item A\n",
    "1. Item B\n",
    "1. Item C\n",
    "\n",
    "We can nest lists and mix type:\n",
    "* There are different ways to edit a Jupyter Notebook:\n",
    "    1. VS Code w/Jupyter extension (what we are doing now)\n",
    "    1. Jupyter Notebook (the program): this is on its way out\n",
    "    1. Jupyter Lab: the better replacement for Jupyter Notebook\n",
    "        * Note: we will do a demo of this next class\n",
    "    1. Google Colab: browser/cloud-based Notebook editor from Google\n"
   ]
  },
  {
   "cell_type": "markdown",
   "metadata": {},
   "source": [
    "## Links and Images\n",
    "I highly encourage you to do this markdown tutorial: https://www.markdowntutorial.com/  \n",
    "I highly encourage you to do [this markdown tutorial](https://www.markdowntutorial.com/)\n",
    "\n",
    "Images:  \n",
    "![alt text](https://cdn.foliovision.com/images/2017/03/i-love-markdown.png)\n",
    "\n",
    "Drop down to HTML to resize the image:  \n",
    "<img src=\"https://cdn.foliovision.com/images/2017/03/i-love-markdown.png\" width=\"300\"/>"
   ]
  },
  {
   "cell_type": "markdown",
   "metadata": {},
   "source": [
    "## Tables\n",
    "Let's make a table for some of our MSRP data:  \n",
    "ModelYear|CarName|MSRP\n",
    "-|-|-\n",
    "75|ford pinto|1111\n",
    "75|toyota corolla|2222"
   ]
  },
  {
   "cell_type": "markdown",
   "metadata": {},
   "source": [
    "## Latex Math Mode\n",
    "Inline math mode: $y = mx + b$\n",
    "\n",
    "Block (centered) math mode: $$y = mx + b$$\n",
    "\n",
    "Subscripts: $x_i$ $x_{i + 1}$  \n",
    "Superscripts: $x^i$ $x^{i + 1}$  \n",
    "Symbols over characters: $\\overline{x + 1}$ $\\widehat{x + 1}$  \n",
    "Special symbols: $\\mu \\sigma \\pi \\Pi \\cup \\cap \\forall \\times$  \n",
    "Summation notation: $\\sum_{i=1}^{n} x_i$  \n",
    "Fractions: $\\frac{1}{x + y + z}$  \n",
    "Square root: $\\sqrt{x + y + z}$\n",
    "\n",
    "Task: Typeset the formulas for (population) mean and standard deviation\n",
    "\n",
    "$\\mu = \\frac{\\sum x}{n}$\n",
    "\n",
    "$\\sigma = \\sqrt{\\frac{\\sum (x - \\mu)^2}{n}}$"
   ]
  },
  {
   "cell_type": "markdown",
   "metadata": {},
   "source": []
  }
 ],
 "metadata": {
  "interpreter": {
   "hash": "d4d1e4263499bec80672ea0156c357c1ee493ec2b1c70f0acce89fc37c4a6abe"
  },
  "kernelspec": {
   "display_name": "Python 3.9.7 64-bit ('base': conda)",
   "language": "python",
   "name": "python3"
  },
  "language_info": {
   "codemirror_mode": {
    "name": "ipython",
    "version": 3
   },
   "file_extension": ".py",
   "mimetype": "text/x-python",
   "name": "python",
   "nbconvert_exporter": "python",
   "pygments_lexer": "ipython3",
   "version": "3.9.7"
  },
  "orig_nbformat": 4
 },
 "nbformat": 4,
 "nbformat_minor": 2
}
